{
 "cells": [
  {
   "cell_type": "code",
   "execution_count": 14,
   "metadata": {},
   "outputs": [
    {
     "name": "stdout",
     "output_type": "stream",
     "text": [
      "Requirement already satisfied: pandas in c:\\users\\viren\\appdata\\local\\programs\\python\\python312\\lib\\site-packages (2.2.0)\n",
      "Collecting openpyxl\n",
      "  Using cached openpyxl-3.1.5-py2.py3-none-any.whl.metadata (2.5 kB)\n",
      "Requirement already satisfied: numpy<2,>=1.26.0 in c:\\users\\viren\\appdata\\local\\programs\\python\\python312\\lib\\site-packages (from pandas) (1.26.4)\n",
      "Requirement already satisfied: python-dateutil>=2.8.2 in c:\\users\\viren\\appdata\\roaming\\python\\python312\\site-packages (from pandas) (2.8.2)\n",
      "Requirement already satisfied: pytz>=2020.1 in c:\\users\\viren\\appdata\\local\\programs\\python\\python312\\lib\\site-packages (from pandas) (2023.3.post1)\n",
      "Requirement already satisfied: tzdata>=2022.7 in c:\\users\\viren\\appdata\\local\\programs\\python\\python312\\lib\\site-packages (from pandas) (2023.4)\n",
      "Collecting et-xmlfile (from openpyxl)\n",
      "  Using cached et_xmlfile-2.0.0-py3-none-any.whl.metadata (2.7 kB)\n",
      "Requirement already satisfied: six>=1.5 in c:\\users\\viren\\appdata\\roaming\\python\\python312\\site-packages (from python-dateutil>=2.8.2->pandas) (1.16.0)\n",
      "Using cached openpyxl-3.1.5-py2.py3-none-any.whl (250 kB)\n",
      "Using cached et_xmlfile-2.0.0-py3-none-any.whl (18 kB)\n",
      "Installing collected packages: et-xmlfile, openpyxl\n",
      "Successfully installed et-xmlfile-2.0.0 openpyxl-3.1.5\n"
     ]
    },
    {
     "name": "stderr",
     "output_type": "stream",
     "text": [
      "\n",
      "[notice] A new release of pip is available: 24.0 -> 25.0.1\n",
      "[notice] To update, run: python.exe -m pip install --upgrade pip\n"
     ]
    }
   ],
   "source": [
    "!pip install pandas openpyxl"
   ]
  },
  {
   "cell_type": "code",
   "execution_count": 15,
   "metadata": {},
   "outputs": [],
   "source": [
    "# importing necessary libraries\n",
    "\n",
    "import pandas as pd\n",
    "import numpy as np\n",
    "import matplotlib.pyplot as plt\n",
    "import seaborn as sns\n",
    "import plotly as px\n",
    "import warnings\n",
    "warnings.filterwarnings(\"ignore\")\n",
    "from sklearn.preprocessing import OrdinalEncoder\n",
    "from datetime import datetime, timedelta\n",
    "import openpyxl"
   ]
  },
  {
   "cell_type": "code",
   "execution_count": 16,
   "metadata": {},
   "outputs": [],
   "source": [
    "df = pd.read_excel(\"C:/Users/viren/OneDrive/Desktop/IIT-MADARAS(GUVI)/Industrial Copper Modeling/Copper_Set.xlsx\")"
   ]
  },
  {
   "cell_type": "code",
   "execution_count": 17,
   "metadata": {},
   "outputs": [
    {
     "data": {
      "text/html": [
       "<div>\n",
       "<style scoped>\n",
       "    .dataframe tbody tr th:only-of-type {\n",
       "        vertical-align: middle;\n",
       "    }\n",
       "\n",
       "    .dataframe tbody tr th {\n",
       "        vertical-align: top;\n",
       "    }\n",
       "\n",
       "    .dataframe thead th {\n",
       "        text-align: right;\n",
       "    }\n",
       "</style>\n",
       "<table border=\"1\" class=\"dataframe\">\n",
       "  <thead>\n",
       "    <tr style=\"text-align: right;\">\n",
       "      <th></th>\n",
       "      <th>id</th>\n",
       "      <th>item_date</th>\n",
       "      <th>quantity tons</th>\n",
       "      <th>customer</th>\n",
       "      <th>country</th>\n",
       "      <th>status</th>\n",
       "      <th>item type</th>\n",
       "      <th>application</th>\n",
       "      <th>thickness</th>\n",
       "      <th>width</th>\n",
       "      <th>material_ref</th>\n",
       "      <th>product_ref</th>\n",
       "      <th>delivery date</th>\n",
       "      <th>selling_price</th>\n",
       "    </tr>\n",
       "  </thead>\n",
       "  <tbody>\n",
       "    <tr>\n",
       "      <th>0</th>\n",
       "      <td>EC06F063-9DF0-440C-8764-0B0C05A4F6AE</td>\n",
       "      <td>20210401.0</td>\n",
       "      <td>54.151139</td>\n",
       "      <td>30156308.0</td>\n",
       "      <td>28.0</td>\n",
       "      <td>Won</td>\n",
       "      <td>W</td>\n",
       "      <td>10.0</td>\n",
       "      <td>2.00</td>\n",
       "      <td>1500.0</td>\n",
       "      <td>DEQ1 S460MC</td>\n",
       "      <td>1670798778</td>\n",
       "      <td>20210701.0</td>\n",
       "      <td>854.00</td>\n",
       "    </tr>\n",
       "    <tr>\n",
       "      <th>1</th>\n",
       "      <td>4E5F4B3D-DDDF-499D-AFDE-A3227EC49425</td>\n",
       "      <td>20210401.0</td>\n",
       "      <td>768.024839</td>\n",
       "      <td>30202938.0</td>\n",
       "      <td>25.0</td>\n",
       "      <td>Won</td>\n",
       "      <td>W</td>\n",
       "      <td>41.0</td>\n",
       "      <td>0.80</td>\n",
       "      <td>1210.0</td>\n",
       "      <td>0000000000000000000000000000000000104991</td>\n",
       "      <td>1668701718</td>\n",
       "      <td>20210401.0</td>\n",
       "      <td>1047.00</td>\n",
       "    </tr>\n",
       "    <tr>\n",
       "      <th>2</th>\n",
       "      <td>E140FF1B-2407-4C02-A0DD-780A093B1158</td>\n",
       "      <td>20210401.0</td>\n",
       "      <td>386.127949</td>\n",
       "      <td>30153963.0</td>\n",
       "      <td>30.0</td>\n",
       "      <td>Won</td>\n",
       "      <td>WI</td>\n",
       "      <td>28.0</td>\n",
       "      <td>0.38</td>\n",
       "      <td>952.0</td>\n",
       "      <td>S0380700</td>\n",
       "      <td>628377</td>\n",
       "      <td>20210101.0</td>\n",
       "      <td>644.33</td>\n",
       "    </tr>\n",
       "    <tr>\n",
       "      <th>3</th>\n",
       "      <td>F8D507A0-9C62-4EFE-831E-33E1DA53BB50</td>\n",
       "      <td>20210401.0</td>\n",
       "      <td>202.411065</td>\n",
       "      <td>30349574.0</td>\n",
       "      <td>32.0</td>\n",
       "      <td>Won</td>\n",
       "      <td>S</td>\n",
       "      <td>59.0</td>\n",
       "      <td>2.30</td>\n",
       "      <td>1317.0</td>\n",
       "      <td>DX51D+ZM310MAO 2.3X1317</td>\n",
       "      <td>1668701718</td>\n",
       "      <td>20210101.0</td>\n",
       "      <td>768.00</td>\n",
       "    </tr>\n",
       "    <tr>\n",
       "      <th>4</th>\n",
       "      <td>4E1C4E78-152B-430A-8094-ADD889C9D0AD</td>\n",
       "      <td>20210401.0</td>\n",
       "      <td>785.526262</td>\n",
       "      <td>30211560.0</td>\n",
       "      <td>28.0</td>\n",
       "      <td>Won</td>\n",
       "      <td>W</td>\n",
       "      <td>10.0</td>\n",
       "      <td>4.00</td>\n",
       "      <td>2000.0</td>\n",
       "      <td>2_S275JR+AR-CL1</td>\n",
       "      <td>640665</td>\n",
       "      <td>20210301.0</td>\n",
       "      <td>577.00</td>\n",
       "    </tr>\n",
       "  </tbody>\n",
       "</table>\n",
       "</div>"
      ],
      "text/plain": [
       "                                     id   item_date quantity tons    customer  \\\n",
       "0  EC06F063-9DF0-440C-8764-0B0C05A4F6AE  20210401.0     54.151139  30156308.0   \n",
       "1  4E5F4B3D-DDDF-499D-AFDE-A3227EC49425  20210401.0    768.024839  30202938.0   \n",
       "2  E140FF1B-2407-4C02-A0DD-780A093B1158  20210401.0    386.127949  30153963.0   \n",
       "3  F8D507A0-9C62-4EFE-831E-33E1DA53BB50  20210401.0    202.411065  30349574.0   \n",
       "4  4E1C4E78-152B-430A-8094-ADD889C9D0AD  20210401.0    785.526262  30211560.0   \n",
       "\n",
       "   country status item type  application  thickness   width  \\\n",
       "0     28.0    Won         W         10.0       2.00  1500.0   \n",
       "1     25.0    Won         W         41.0       0.80  1210.0   \n",
       "2     30.0    Won        WI         28.0       0.38   952.0   \n",
       "3     32.0    Won         S         59.0       2.30  1317.0   \n",
       "4     28.0    Won         W         10.0       4.00  2000.0   \n",
       "\n",
       "                               material_ref  product_ref  delivery date  \\\n",
       "0                               DEQ1 S460MC   1670798778     20210701.0   \n",
       "1  0000000000000000000000000000000000104991   1668701718     20210401.0   \n",
       "2                                  S0380700       628377     20210101.0   \n",
       "3                   DX51D+ZM310MAO 2.3X1317   1668701718     20210101.0   \n",
       "4                           2_S275JR+AR-CL1       640665     20210301.0   \n",
       "\n",
       "   selling_price  \n",
       "0         854.00  \n",
       "1        1047.00  \n",
       "2         644.33  \n",
       "3         768.00  \n",
       "4         577.00  "
      ]
     },
     "execution_count": 17,
     "metadata": {},
     "output_type": "execute_result"
    }
   ],
   "source": [
    "df.head()"
   ]
  },
  {
   "cell_type": "code",
   "execution_count": 18,
   "metadata": {},
   "outputs": [
    {
     "data": {
      "text/plain": [
       "id                   2\n",
       "item_date            1\n",
       "quantity tons        0\n",
       "customer             1\n",
       "country             28\n",
       "status               2\n",
       "item type            0\n",
       "application         24\n",
       "thickness            1\n",
       "width                0\n",
       "material_ref     77919\n",
       "product_ref          0\n",
       "delivery date        1\n",
       "selling_price        1\n",
       "dtype: int64"
      ]
     },
     "execution_count": 18,
     "metadata": {},
     "output_type": "execute_result"
    }
   ],
   "source": [
    "df.isnull().sum()"
   ]
  },
  {
   "cell_type": "code",
   "execution_count": 19,
   "metadata": {},
   "outputs": [
    {
     "data": {
      "text/plain": [
       "array(['DEQ1 S460MC', '0000000000000000000000000000000000104991',\n",
       "       'S0380700', ..., 'MAS65550', '4.11043_1060X5_BRE',\n",
       "       '202006170005.IO.1.1'], dtype=object)"
      ]
     },
     "execution_count": 19,
     "metadata": {},
     "output_type": "execute_result"
    }
   ],
   "source": [
    "df[\"material_ref\"].unique()"
   ]
  },
  {
   "cell_type": "code",
   "execution_count": null,
   "metadata": {},
   "outputs": [],
   "source": []
  }
 ],
 "metadata": {
  "kernelspec": {
   "display_name": "Python 3",
   "language": "python",
   "name": "python3"
  },
  "language_info": {
   "codemirror_mode": {
    "name": "ipython",
    "version": 3
   },
   "file_extension": ".py",
   "mimetype": "text/x-python",
   "name": "python",
   "nbconvert_exporter": "python",
   "pygments_lexer": "ipython3",
   "version": "3.12.3"
  }
 },
 "nbformat": 4,
 "nbformat_minor": 2
}
